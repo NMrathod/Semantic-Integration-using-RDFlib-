{
  "nbformat": 4,
  "nbformat_minor": 0,
  "metadata": {
    "colab": {
      "name": "CSV_loop.ipynb",
      "provenance": [],
      "collapsed_sections": [],
      "authorship_tag": "ABX9TyNHU0+eUVxgIWIXUZMU8pRw",
      "include_colab_link": true
    },
    "kernelspec": {
      "name": "python3",
      "display_name": "Python 3"
    },
    "language_info": {
      "name": "python"
    }
  },
  "cells": [
    {
      "cell_type": "markdown",
      "metadata": {
        "id": "view-in-github",
        "colab_type": "text"
      },
      "source": [
        "<a href=\"https://colab.research.google.com/github/NMrathod/Semantic-Integration-using-RDFlib-/blob/main/CSV_loop.ipynb\" target=\"_parent\"><img src=\"https://colab.research.google.com/assets/colab-badge.svg\" alt=\"Open In Colab\"/></a>"
      ]
    },
    {
      "cell_type": "code",
      "source": [
        "pip install rdflib"
      ],
      "metadata": {
        "colab": {
          "base_uri": "https://localhost:8080/"
        },
        "id": "70OmXncjYAxY",
        "outputId": "77819b34-44d9-4948-f8a7-1674590aece5"
      },
      "execution_count": 1,
      "outputs": [
        {
          "output_type": "stream",
          "name": "stdout",
          "text": [
            "Collecting rdflib\n",
            "  Downloading rdflib-6.1.1-py3-none-any.whl (482 kB)\n",
            "\u001b[?25l\r\u001b[K     |▊                               | 10 kB 22.8 MB/s eta 0:00:01\r\u001b[K     |█▍                              | 20 kB 15.7 MB/s eta 0:00:01\r\u001b[K     |██                              | 30 kB 11.0 MB/s eta 0:00:01\r\u001b[K     |██▊                             | 40 kB 4.7 MB/s eta 0:00:01\r\u001b[K     |███▍                            | 51 kB 4.6 MB/s eta 0:00:01\r\u001b[K     |████                            | 61 kB 5.4 MB/s eta 0:00:01\r\u001b[K     |████▊                           | 71 kB 5.9 MB/s eta 0:00:01\r\u001b[K     |█████▍                          | 81 kB 5.5 MB/s eta 0:00:01\r\u001b[K     |██████                          | 92 kB 6.0 MB/s eta 0:00:01\r\u001b[K     |██████▉                         | 102 kB 5.1 MB/s eta 0:00:01\r\u001b[K     |███████▌                        | 112 kB 5.1 MB/s eta 0:00:01\r\u001b[K     |████████▏                       | 122 kB 5.1 MB/s eta 0:00:01\r\u001b[K     |████████▉                       | 133 kB 5.1 MB/s eta 0:00:01\r\u001b[K     |█████████▌                      | 143 kB 5.1 MB/s eta 0:00:01\r\u001b[K     |██████████▏                     | 153 kB 5.1 MB/s eta 0:00:01\r\u001b[K     |██████████▉                     | 163 kB 5.1 MB/s eta 0:00:01\r\u001b[K     |███████████▌                    | 174 kB 5.1 MB/s eta 0:00:01\r\u001b[K     |████████████▏                   | 184 kB 5.1 MB/s eta 0:00:01\r\u001b[K     |█████████████                   | 194 kB 5.1 MB/s eta 0:00:01\r\u001b[K     |█████████████▋                  | 204 kB 5.1 MB/s eta 0:00:01\r\u001b[K     |██████████████▎                 | 215 kB 5.1 MB/s eta 0:00:01\r\u001b[K     |███████████████                 | 225 kB 5.1 MB/s eta 0:00:01\r\u001b[K     |███████████████▋                | 235 kB 5.1 MB/s eta 0:00:01\r\u001b[K     |████████████████▎               | 245 kB 5.1 MB/s eta 0:00:01\r\u001b[K     |█████████████████               | 256 kB 5.1 MB/s eta 0:00:01\r\u001b[K     |█████████████████▋              | 266 kB 5.1 MB/s eta 0:00:01\r\u001b[K     |██████████████████▎             | 276 kB 5.1 MB/s eta 0:00:01\r\u001b[K     |███████████████████             | 286 kB 5.1 MB/s eta 0:00:01\r\u001b[K     |███████████████████▊            | 296 kB 5.1 MB/s eta 0:00:01\r\u001b[K     |████████████████████▍           | 307 kB 5.1 MB/s eta 0:00:01\r\u001b[K     |█████████████████████           | 317 kB 5.1 MB/s eta 0:00:01\r\u001b[K     |█████████████████████▊          | 327 kB 5.1 MB/s eta 0:00:01\r\u001b[K     |██████████████████████▍         | 337 kB 5.1 MB/s eta 0:00:01\r\u001b[K     |███████████████████████         | 348 kB 5.1 MB/s eta 0:00:01\r\u001b[K     |███████████████████████▊        | 358 kB 5.1 MB/s eta 0:00:01\r\u001b[K     |████████████████████████▍       | 368 kB 5.1 MB/s eta 0:00:01\r\u001b[K     |█████████████████████████▏      | 378 kB 5.1 MB/s eta 0:00:01\r\u001b[K     |█████████████████████████▉      | 389 kB 5.1 MB/s eta 0:00:01\r\u001b[K     |██████████████████████████▌     | 399 kB 5.1 MB/s eta 0:00:01\r\u001b[K     |███████████████████████████▏    | 409 kB 5.1 MB/s eta 0:00:01\r\u001b[K     |███████████████████████████▉    | 419 kB 5.1 MB/s eta 0:00:01\r\u001b[K     |████████████████████████████▌   | 430 kB 5.1 MB/s eta 0:00:01\r\u001b[K     |█████████████████████████████▏  | 440 kB 5.1 MB/s eta 0:00:01\r\u001b[K     |█████████████████████████████▉  | 450 kB 5.1 MB/s eta 0:00:01\r\u001b[K     |██████████████████████████████▌ | 460 kB 5.1 MB/s eta 0:00:01\r\u001b[K     |███████████████████████████████▏| 471 kB 5.1 MB/s eta 0:00:01\r\u001b[K     |████████████████████████████████| 481 kB 5.1 MB/s eta 0:00:01\r\u001b[K     |████████████████████████████████| 482 kB 5.1 MB/s \n",
            "\u001b[?25hRequirement already satisfied: setuptools in /usr/local/lib/python3.7/dist-packages (from rdflib) (57.4.0)\n",
            "Requirement already satisfied: importlib-metadata in /usr/local/lib/python3.7/dist-packages (from rdflib) (4.11.0)\n",
            "Collecting isodate\n",
            "  Downloading isodate-0.6.1-py2.py3-none-any.whl (41 kB)\n",
            "\u001b[K     |████████████████████████████████| 41 kB 203 kB/s \n",
            "\u001b[?25hRequirement already satisfied: pyparsing in /usr/local/lib/python3.7/dist-packages (from rdflib) (3.0.7)\n",
            "Requirement already satisfied: typing-extensions>=3.6.4 in /usr/local/lib/python3.7/dist-packages (from importlib-metadata->rdflib) (3.10.0.2)\n",
            "Requirement already satisfied: zipp>=0.5 in /usr/local/lib/python3.7/dist-packages (from importlib-metadata->rdflib) (3.7.0)\n",
            "Requirement already satisfied: six in /usr/local/lib/python3.7/dist-packages (from isodate->rdflib) (1.15.0)\n",
            "Installing collected packages: isodate, rdflib\n",
            "Successfully installed isodate-0.6.1 rdflib-6.1.1\n"
          ]
        }
      ]
    },
    {
      "cell_type": "code",
      "source": [
        "from google.colab import files\n",
        "\n",
        "uploaded = files.upload()"
      ],
      "metadata": {
        "colab": {
          "resources": {
            "http://localhost:8080/nbextensions/google.colab/files.js": {
              "data": "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",
              "ok": true,
              "headers": [
                [
                  "content-type",
                  "application/javascript"
                ]
              ],
              "status": 200,
              "status_text": ""
            }
          },
          "base_uri": "https://localhost:8080/",
          "height": 74
        },
        "id": "eA1n6dMTYElQ",
        "outputId": "64598e5a-341d-4b50-c64d-13fe8046ba4e"
      },
      "execution_count": 2,
      "outputs": [
        {
          "output_type": "display_data",
          "data": {
            "text/html": [
              "\n",
              "     <input type=\"file\" id=\"files-11a6f473-7426-416e-b789-e1990cbb5364\" name=\"files[]\" multiple disabled\n",
              "        style=\"border:none\" />\n",
              "     <output id=\"result-11a6f473-7426-416e-b789-e1990cbb5364\">\n",
              "      Upload widget is only available when the cell has been executed in the\n",
              "      current browser session. Please rerun this cell to enable.\n",
              "      </output>\n",
              "      <script src=\"/nbextensions/google.colab/files.js\"></script> "
            ],
            "text/plain": [
              "<IPython.core.display.HTML object>"
            ]
          },
          "metadata": {}
        },
        {
          "output_type": "stream",
          "name": "stdout",
          "text": [
            "Saving ontology.ttl to ontology.ttl\n"
          ]
        }
      ]
    },
    {
      "cell_type": "code",
      "source": [
        "from google.colab import files\n",
        "\n",
        "uploaded = files.upload()"
      ],
      "metadata": {
        "colab": {
          "resources": {
            "http://localhost:8080/nbextensions/google.colab/files.js": {
              "data": "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",
              "ok": true,
              "headers": [
                [
                  "content-type",
                  "application/javascript"
                ]
              ],
              "status": 200,
              "status_text": ""
            }
          },
          "base_uri": "https://localhost:8080/",
          "height": 74
        },
        "id": "D_nOskxiYJrz",
        "outputId": "b9c21fb2-da45-459f-ec2a-2ed3d7670dda"
      },
      "execution_count": 3,
      "outputs": [
        {
          "output_type": "display_data",
          "data": {
            "text/html": [
              "\n",
              "     <input type=\"file\" id=\"files-76652668-4738-4ad6-abc4-6deeea183529\" name=\"files[]\" multiple disabled\n",
              "        style=\"border:none\" />\n",
              "     <output id=\"result-76652668-4738-4ad6-abc4-6deeea183529\">\n",
              "      Upload widget is only available when the cell has been executed in the\n",
              "      current browser session. Please rerun this cell to enable.\n",
              "      </output>\n",
              "      <script src=\"/nbextensions/google.colab/files.js\"></script> "
            ],
            "text/plain": [
              "<IPython.core.display.HTML object>"
            ]
          },
          "metadata": {}
        },
        {
          "output_type": "stream",
          "name": "stdout",
          "text": [
            "Saving tabular.csv to tabular.csv\n"
          ]
        }
      ]
    },
    {
      "cell_type": "code",
      "source": [
        "import pandas as pd\n",
        "data = pd.read_csv('tabular.csv',sep=\";\")\n",
        "columns = data.columns[1:]\n",
        "\n",
        "from rdflib import Graph, URIRef, Literal, BNode, Namespace\n",
        "from rdflib.namespace import FOAF, RDF, RDFS, OWL, XSD"
      ],
      "metadata": {
        "id": "RNas1C5vYQWj"
      },
      "execution_count": 10,
      "outputs": []
    },
    {
      "cell_type": "code",
      "source": [
        "g = Graph()\n",
        "\n",
        "g.parse('ontology.ttl')\n",
        "\n",
        "n = Namespace(\"http://www.ex.com/ontology/\")\n",
        "\n",
        "g.bind(\"rdf\", RDF)\n",
        "\n"
      ],
      "metadata": {
        "id": "5AZJB-i7YmMf"
      },
      "execution_count": 14,
      "outputs": []
    },
    {
      "cell_type": "code",
      "source": [
        "for index, row in data.iterrows():\n",
        "\n",
        "  g.add((n.Mix+str(row['Id']), RDF.type, n.Mix))\n",
        "\n",
        "  for col in columns:\n",
        "\n",
        "    g.add((n.Mix+str(row['Id']), URIRef(n+ col), Literal(row[col], datatype=XSD.integer)))\n"
      ],
      "metadata": {
        "id": "hADLVSf2YwUz"
      },
      "execution_count": 16,
      "outputs": []
    },
    {
      "cell_type": "code",
      "source": [
        "print(g.serialize(format='nt'))"
      ],
      "metadata": {
        "colab": {
          "base_uri": "https://localhost:8080/"
        },
        "id": "zSt5ENUtYy2p",
        "outputId": "9155b02e-2c20-41b8-9498-29c45ac503b5"
      },
      "execution_count": 17,
      "outputs": [
        {
          "output_type": "stream",
          "name": "stdout",
          "text": [
            "<http://www.ex.com/ontology/Mix5> <http://www.ex.com/ontology/Al2O3> \"26\"^^<http://www.w3.org/2001/XMLSchema#integer> .\n",
            "<http://www.ex.com/ontology/Mix4> <http://www.ex.com/ontology/NaOH> \"34\"^^<http://www.w3.org/2001/XMLSchema#integer> .\n",
            "<http://www.ex.com/ontology/Mix7> <http://www.ex.com/ontology/NaOH> \"34\"^^<http://www.w3.org/2001/XMLSchema#integer> .\n",
            "<http://www.ex.com/ontology/Mix3> <http://www.ex.com/ontology/NaOH> \"51\"^^<http://www.w3.org/2001/XMLSchema#integer> .\n",
            "<http://www.ex.com/ontology/CaO> <http://www.w3.org/2000/01/rdf-schema#subClassOf> <http://www.ex.com/ontology/Binder_features> .\n",
            "<http://www.ex.com/ontology/Mix9> <http://www.ex.com/ontology/CaO> \"21\"^^<http://www.w3.org/2001/XMLSchema#integer> .\n",
            "<http://www.ex.com/ontology/Mix2> <http://www.ex.com/ontology/Al2O3> \"29\"^^<http://www.w3.org/2001/XMLSchema#integer> .\n",
            "<http://www.ex.com/ontology/Alkali_features> <http://www.w3.org/2000/01/rdf-schema#subClassOf> <http://www.ex.com/ontology/Input_features> .\n",
            "<http://www.ex.com/ontology/Mix4> <http://www.ex.com/ontology/Al2O3> \"32\"^^<http://www.w3.org/2001/XMLSchema#integer> .\n",
            "<http://www.ex.com/ontology/Mix3> <http://www.ex.com/ontology/Final_curing_temp> \"26\"^^<http://www.w3.org/2001/XMLSchema#integer> .\n",
            "<http://www.ex.com/ontology/Mix2> <http://www.ex.com/ontology/NaOH> \"48\"^^<http://www.w3.org/2001/XMLSchema#integer> .\n",
            "<http://www.ex.com/ontology/Mix6> <http://www.ex.com/ontology/Final_curing_temp> \"25\"^^<http://www.w3.org/2001/XMLSchema#integer> .\n",
            "<http://www.ex.com/ontology/Mix6> <http://www.ex.com/ontology/28_d_Ec> \"486\"^^<http://www.w3.org/2001/XMLSchema#integer> .\n",
            "<http://www.ex.com/ontology/Input_features> <http://www.w3.org/1999/02/22-rdf-syntax-ns#type> <http://www.w3.org/2002/07/owl#Class> .\n",
            "<http://www.ex.com/ontology/28_d_Ec> <http://www.w3.org/1999/02/22-rdf-syntax-ns#type> <http://www.w3.org/2002/07/owl#Class> .\n",
            "<http://www.ex.com/ontology/Mix7> <http://www.ex.com/ontology/Final_curing_temp> \"23\"^^<http://www.w3.org/2001/XMLSchema#integer> .\n",
            "<http://www.ex.com/ontology/Mix8> <http://www.ex.com/ontology/CaO> \"32\"^^<http://www.w3.org/2001/XMLSchema#integer> .\n",
            "<http://www.ex.com/ontology/Mix3> <http://www.ex.com/ontology/Al2O3> \"24\"^^<http://www.w3.org/2001/XMLSchema#integer> .\n",
            "<http://www.ex.com/ontology/Mix1> <http://www.ex.com/ontology/28_d_Ec> \"134\"^^<http://www.w3.org/2001/XMLSchema#integer> .\n",
            "<http://www.ex.com/ontology/Final_curing_temp> <http://www.w3.org/1999/02/22-rdf-syntax-ns#type> <http://www.w3.org/2002/07/owl#Class> .\n",
            "<http://www.ex.com/ontology/Mix6> <http://www.ex.com/ontology/CaO> \"39\"^^<http://www.w3.org/2001/XMLSchema#integer> .\n",
            "<http://www.ex.com/ontology/Final_curing_temp> <http://www.w3.org/2000/01/rdf-schema#subClassOf> <http://www.ex.com/ontology/Input_features> .\n",
            "<http://www.ex.com/ontology/28_d_Ec> <http://www.w3.org/2000/01/rdf-schema#subClassOf> <http://www.ex.com/ontology/Young_modulus> .\n",
            "<http://www.ex.com/ontology/Mix1> <http://www.ex.com/ontology/CaO> \"21\"^^<http://www.w3.org/2001/XMLSchema#integer> .\n",
            "<http://www.ex.com/ontology/Output_features> <http://www.w3.org/1999/02/22-rdf-syntax-ns#type> <http://www.w3.org/2002/07/owl#Class> .\n",
            "<http://www.ex.com/ontology/Mix10> <http://www.ex.com/ontology/NaOH> \"99\"^^<http://www.w3.org/2001/XMLSchema#integer> .\n",
            "<http://www.ex.com/ontology/Mix1> <http://www.ex.com/ontology/Final_curing_temp> \"24\"^^<http://www.w3.org/2001/XMLSchema#integer> .\n",
            "<http://www.ex.com/ontology/Mix6> <http://www.w3.org/1999/02/22-rdf-syntax-ns#type> <http://www.ex.com/ontology/Mix> .\n",
            "<http://www.ex.com/ontology/Mix9> <http://www.w3.org/1999/02/22-rdf-syntax-ns#type> <http://www.ex.com/ontology/Mix> .\n",
            "<http://www.ex.com/ontology/Mix1> <http://www.ex.com/ontology/Al2O3> \"26\"^^<http://www.w3.org/2001/XMLSchema#integer> .\n",
            "<http://www.ex.com/ontology/Young_modulus> <http://www.w3.org/1999/02/22-rdf-syntax-ns#type> <http://www.w3.org/2002/07/owl#Class> .\n",
            "<http://www.ex.com/ontology/Mix2> <http://www.ex.com/ontology/28_d_Ec> \"453\"^^<http://www.w3.org/2001/XMLSchema#integer> .\n",
            "<http://www.ex.com/ontology/Mix5> <http://www.ex.com/ontology/28_d_Ec> \"335\"^^<http://www.w3.org/2001/XMLSchema#integer> .\n",
            "<http://www.ex.com/ontology/Mix2> <http://www.ex.com/ontology/Final_curing_temp> \"22\"^^<http://www.w3.org/2001/XMLSchema#integer> .\n",
            "<http://www.ex.com/ontology/Mix9> <http://www.ex.com/ontology/28_d_Ec> \"535\"^^<http://www.w3.org/2001/XMLSchema#integer> .\n",
            "<http://www.ex.com/ontology/hasValue> <http://www.w3.org/1999/02/22-rdf-syntax-ns#type> <http://www.w3.org/2002/07/owl#ObjectProperty> .\n",
            "<http://www.ex.com/ontology/Mix2> <http://www.ex.com/ontology/CaO> \"22\"^^<http://www.w3.org/2001/XMLSchema#integer> .\n",
            "<http://www.ex.com/ontology/Mix5> <http://www.ex.com/ontology/Final_curing_temp> \"28\"^^<http://www.w3.org/2001/XMLSchema#integer> .\n",
            "<http://www.ex.com/ontology/hasMolComp> <http://www.w3.org/1999/02/22-rdf-syntax-ns#type> <http://www.w3.org/2002/07/owl#ObjectProperty> .\n",
            "<http://www.ex.com/ontology/Mix3> <http://www.w3.org/1999/02/22-rdf-syntax-ns#type> <http://www.ex.com/ontology/Mix> .\n",
            "<http://www.ex.com/ontology/Mix2> <http://www.w3.org/1999/02/22-rdf-syntax-ns#type> <http://www.ex.com/ontology/Mix> .\n",
            "<http://www.ex.com/ontology/Mix10> <http://www.ex.com/ontology/28_d_Ec> \"456\"^^<http://www.w3.org/2001/XMLSchema#integer> .\n",
            "<http://www.ex.com/ontology/Mix5> <http://www.ex.com/ontology/NaOH> \"32\"^^<http://www.w3.org/2001/XMLSchema#integer> .\n",
            "<http://www.ex.com/ontology/Mix5> <http://www.w3.org/1999/02/22-rdf-syntax-ns#type> <http://www.ex.com/ontology/Mix> .\n",
            "<http://www.ex.com/ontology/hasYoungMod> <http://www.w3.org/1999/02/22-rdf-syntax-ns#type> <http://www.w3.org/2002/07/owl#ObjectProperty> .\n",
            "<http://www.ex.com/ontology/Mix6> <http://www.ex.com/ontology/NaOH> \"74\"^^<http://www.w3.org/2001/XMLSchema#integer> .\n",
            "<http://www.ex.com/ontology/Mix9> <http://www.ex.com/ontology/NaOH> \"53\"^^<http://www.w3.org/2001/XMLSchema#integer> .\n",
            "<http://www.ex.com/ontology/Mix3> <http://www.ex.com/ontology/28_d_Ec> \"324\"^^<http://www.w3.org/2001/XMLSchema#integer> .\n",
            "<http://www.ex.com/ontology/Mix> <http://www.w3.org/1999/02/22-rdf-syntax-ns#type> <http://www.w3.org/2002/07/owl#Class> .\n",
            "<http://www.ex.com/ontology/Mix8> <http://www.ex.com/ontology/NaOH> \"89\"^^<http://www.w3.org/2001/XMLSchema#integer> .\n",
            "<http://www.ex.com/ontology/NaOH> <http://www.w3.org/1999/02/22-rdf-syntax-ns#type> <http://www.w3.org/2002/07/owl#Class> .\n",
            "<http://www.ex.com/ontology/Mix1> <http://www.w3.org/1999/02/22-rdf-syntax-ns#type> <http://www.ex.com/ontology/Mix> .\n",
            "<http://www.ex.com/ontology/Mix7> <http://www.ex.com/ontology/CaO> \"0\"^^<http://www.w3.org/2001/XMLSchema#integer> .\n",
            "<http://www.ex.com/ontology/Mix4> <http://www.ex.com/ontology/Final_curing_temp> \"24\"^^<http://www.w3.org/2001/XMLSchema#integer> .\n",
            "<http://www.ex.com/ontology/Mix4> <http://www.ex.com/ontology/28_d_Ec> \"754\"^^<http://www.w3.org/2001/XMLSchema#integer> .\n",
            "<http://www.ex.com/ontology/Mix7> <http://www.ex.com/ontology/28_d_Ec> \"234\"^^<http://www.w3.org/2001/XMLSchema#integer> .\n",
            "<http://www.ex.com/ontology/Mix8> <http://www.ex.com/ontology/28_d_Ec> \"987\"^^<http://www.w3.org/2001/XMLSchema#integer> .\n",
            "<http://www.ex.com/ontology/Mix7> <http://www.ex.com/ontology/Al2O3> \"30\"^^<http://www.w3.org/2001/XMLSchema#integer> .\n",
            "<http://www.ex.com/ontology/Mix9> <http://www.ex.com/ontology/Final_curing_temp> \"25\"^^<http://www.w3.org/2001/XMLSchema#integer> .\n",
            "<http://www.ex.com/ontology/hasCuringTemp> <http://www.w3.org/1999/02/22-rdf-syntax-ns#type> <http://www.w3.org/2002/07/owl#ObjectProperty> .\n",
            "<http://www.ex.com/ontology/Binder_features> <http://www.w3.org/1999/02/22-rdf-syntax-ns#type> <http://www.w3.org/2002/07/owl#Class> .\n",
            "<http://www.ex.com/ontology/NaOH> <http://www.w3.org/2000/01/rdf-schema#subClassOf> <http://www.ex.com/ontology/Alkali_features> .\n",
            "<http://www.ex.com/ontology/Mix8> <http://www.ex.com/ontology/Al2O3> \"31\"^^<http://www.w3.org/2001/XMLSchema#integer> .\n",
            "<http://www.ex.com/ontology/Mix4> <http://www.w3.org/1999/02/22-rdf-syntax-ns#type> <http://www.ex.com/ontology/Mix> .\n",
            "<http://www.ex.com/ontology/Mix10> <http://www.ex.com/ontology/Final_curing_temp> \"27\"^^<http://www.w3.org/2001/XMLSchema#integer> .\n",
            "<http://www.ex.com/ontology/Mix3> <http://www.ex.com/ontology/CaO> \"43\"^^<http://www.w3.org/2001/XMLSchema#integer> .\n",
            "<http://www.ex.com/ontology/Al2O3> <http://www.w3.org/2000/01/rdf-schema#subClassOf> <http://www.ex.com/ontology/Binder_features> .\n",
            "<http://www.ex.com/ontology/Alkali_features> <http://www.w3.org/1999/02/22-rdf-syntax-ns#type> <http://www.w3.org/2002/07/owl#Class> .\n",
            "<http://www.ex.com/ontology/Mix6> <http://www.ex.com/ontology/Al2O3> \"35\"^^<http://www.w3.org/2001/XMLSchema#integer> .\n",
            "<http://www.ex.com/ontology/Mix7> <http://www.w3.org/1999/02/22-rdf-syntax-ns#type> <http://www.ex.com/ontology/Mix> .\n",
            "<http://www.ex.com/ontology/Mix10> <http://www.ex.com/ontology/Al2O3> \"28\"^^<http://www.w3.org/2001/XMLSchema#integer> .\n",
            "<http://www.ex.com/ontology/Mix9> <http://www.ex.com/ontology/Al2O3> \"29\"^^<http://www.w3.org/2001/XMLSchema#integer> .\n",
            "<http://www.ex.com/ontology/Young_modulus> <http://www.w3.org/2000/01/rdf-schema#subClassOf> <http://www.ex.com/ontology/Output_features> .\n",
            "<http://www.ex.com/ontology/Mix4> <http://www.ex.com/ontology/CaO> \"45\"^^<http://www.w3.org/2001/XMLSchema#integer> .\n",
            "<http://www.ex.com/ontology/Mix8> <http://www.ex.com/ontology/Final_curing_temp> \"26\"^^<http://www.w3.org/2001/XMLSchema#integer> .\n",
            "<http://www.ex.com/ontology/Output_features> <http://www.w3.org/2000/01/rdf-schema#subClassOf> <http://www.ex.com/ontology/Mix> .\n",
            "<http://www.ex.com/ontology/> <http://www.w3.org/1999/02/22-rdf-syntax-ns#type> <http://www.w3.org/2002/07/owl#Ontology> .\n",
            "<http://www.ex.com/ontology/CaO> <http://www.w3.org/1999/02/22-rdf-syntax-ns#type> <http://www.w3.org/2002/07/owl#Class> .\n",
            "<http://www.ex.com/ontology/Mix5> <http://www.ex.com/ontology/CaO> \"55\"^^<http://www.w3.org/2001/XMLSchema#integer> .\n",
            "<http://www.ex.com/ontology/Mix10> <http://www.w3.org/1999/02/22-rdf-syntax-ns#type> <http://www.ex.com/ontology/Mix> .\n",
            "<http://www.ex.com/ontology/Input_features> <http://www.w3.org/2000/01/rdf-schema#subClassOf> <http://www.ex.com/ontology/Mix> .\n",
            "<http://www.ex.com/ontology/Al2O3> <http://www.w3.org/1999/02/22-rdf-syntax-ns#type> <http://www.w3.org/2002/07/owl#Class> .\n",
            "<http://www.ex.com/ontology/Binder_features> <http://www.w3.org/2000/01/rdf-schema#subClassOf> <http://www.ex.com/ontology/Input_features> .\n",
            "<http://www.ex.com/ontology/Mix1> <http://www.ex.com/ontology/NaOH> \"120\"^^<http://www.w3.org/2001/XMLSchema#integer> .\n",
            "<http://www.ex.com/ontology/Mix8> <http://www.w3.org/1999/02/22-rdf-syntax-ns#type> <http://www.ex.com/ontology/Mix> .\n",
            "<http://www.ex.com/ontology/Mix10> <http://www.ex.com/ontology/CaO> \"31\"^^<http://www.w3.org/2001/XMLSchema#integer> .\n",
            "\n",
            "\n"
          ]
        }
      ]
    },
    {
      "cell_type": "code",
      "source": [
        ""
      ],
      "metadata": {
        "id": "R__d1JKqZFKA"
      },
      "execution_count": null,
      "outputs": []
    }
  ]
}